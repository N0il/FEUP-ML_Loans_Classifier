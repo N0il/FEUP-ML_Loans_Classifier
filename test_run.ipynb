{
 "cells": [
  {
   "cell_type": "code",
   "execution_count": 2,
   "metadata": {},
   "outputs": [],
   "source": [
    "import pandas as pd\n",
    "import numpy as np\n",
    "import sklearn"
   ]
  },
  {
   "cell_type": "code",
   "execution_count": 4,
   "metadata": {},
   "outputs": [
    {
     "name": "stdout",
     "output_type": "stream",
     "text": [
      "    code             name            region  no. of inhabitants  \\\n",
      "0       1      Hl.m. Praha           Prague             1204953   \n",
      "1       2          Benesov  central Bohemia               88884   \n",
      "2       3           Beroun  central Bohemia               75232   \n",
      "3       4           Kladno  central Bohemia              149893   \n",
      "4       5            Kolin  central Bohemia               95616   \n",
      "..    ...              ...              ...                 ...   \n",
      "72     73            Opava    north Moravia              182027   \n",
      "73     74  Ostrava - mesto    north Moravia              323870   \n",
      "74     75           Prerov    north Moravia              138032   \n",
      "75     76          Sumperk    north Moravia              127369   \n",
      "76     77           Vsetin    north Moravia              148545   \n",
      "\n",
      "    no. of municipalities with inhabitants < 499   \\\n",
      "0                                               0   \n",
      "1                                              80   \n",
      "2                                              55   \n",
      "3                                              63   \n",
      "4                                              65   \n",
      "..                                            ...   \n",
      "72                                             17   \n",
      "73                                              0   \n",
      "74                                             67   \n",
      "75                                             31   \n",
      "76                                              8   \n",
      "\n",
      "    no. of municipalities with inhabitants 500-1999  \\\n",
      "0                                                 0   \n",
      "1                                                26   \n",
      "2                                                26   \n",
      "3                                                29   \n",
      "4                                                30   \n",
      "..                                              ...   \n",
      "72                                               49   \n",
      "73                                                0   \n",
      "74                                               30   \n",
      "75                                               32   \n",
      "76                                               35   \n",
      "\n",
      "    no. of municipalities with inhabitants 2000-9999   \\\n",
      "0                                                   0   \n",
      "1                                                   6   \n",
      "2                                                   4   \n",
      "3                                                   6   \n",
      "4                                                   4   \n",
      "..                                                ...   \n",
      "72                                                 12   \n",
      "73                                                  0   \n",
      "74                                                  4   \n",
      "75                                                 13   \n",
      "76                                                 12   \n",
      "\n",
      "    no. of municipalities with inhabitants >10000   no. of cities   \\\n",
      "0                                                1               1   \n",
      "1                                                2               5   \n",
      "2                                                1               5   \n",
      "3                                                2               6   \n",
      "4                                                1               6   \n",
      "..                                             ...             ...   \n",
      "72                                               2               7   \n",
      "73                                               1               1   \n",
      "74                                               2               5   \n",
      "75                                               2               7   \n",
      "76                                               3               4   \n",
      "\n",
      "    ratio of urban inhabitants   average salary  unemploymant rate '95   \\\n",
      "0                         100.0            12541                   0.29   \n",
      "1                          46.7             8507                   1.67   \n",
      "2                          41.7             8980                   1.95   \n",
      "3                          67.4             9753                   4.64   \n",
      "4                          51.4             9307                   3.85   \n",
      "..                          ...              ...                    ...   \n",
      "72                         56.4             8746                   3.33   \n",
      "73                        100.0            10673                   4.75   \n",
      "74                         64.6             8819                   5.38   \n",
      "75                         51.2             8369                   4.73   \n",
      "76                         53.5             8909                   4.01   \n",
      "\n",
      "    unemploymant rate '96   no. of enterpreneurs per 1000 inhabitants   \\\n",
      "0                     0.43                                         167   \n",
      "1                     1.85                                         132   \n",
      "2                     2.21                                         111   \n",
      "3                     5.05                                         109   \n",
      "4                     4.43                                         118   \n",
      "..                     ...                                         ...   \n",
      "72                    3.74                                          90   \n",
      "73                    5.44                                         100   \n",
      "74                    5.66                                          99   \n",
      "75                    5.88                                         107   \n",
      "76                    5.56                                         113   \n",
      "\n",
      "   no. of commited crimes '95   no. of commited crimes '96   \n",
      "0                        85677                        99107  \n",
      "1                         2159                         2674  \n",
      "2                         2824                         2813  \n",
      "3                         5244                         5892  \n",
      "4                         2616                         3040  \n",
      "..                         ...                          ...  \n",
      "72                        4355                         4433  \n",
      "73                       18782                        18347  \n",
      "74                        4063                         4505  \n",
      "75                        3736                         2807  \n",
      "76                        3460                         3590  \n",
      "\n",
      "[77 rows x 16 columns]\n"
     ]
    },
    {
     "name": "stderr",
     "output_type": "stream",
     "text": [
      "C:\\Users\\Francisco\\AppData\\Local\\Temp\\ipykernel_19856\\367836033.py:10: DtypeWarning: Columns (8) have mixed types. Specify dtype option on import or set low_memory=False.\n",
      "  trans_data = pd.read_csv('data/trans_dev.csv', sep=\";\")\n"
     ]
    }
   ],
   "source": [
    "from dis import dis\n",
    "\n",
    "\n",
    "account_data = pd.read_csv('data/account.csv', sep=\";\")\n",
    "card_data = pd.read_csv('data/card_dev.csv', sep=\";\")\n",
    "client_data = pd.read_csv('data/client.csv', sep=\";\")\n",
    "disp_data = pd.read_csv('data/disp.csv', sep=\";\")\n",
    "district_data = pd.read_csv('data/district.csv', sep=\";\")\n",
    "loan_data = pd.read_csv('data/loan_dev.csv', sep=\";\")\n",
    "trans_data = pd.read_csv('data/trans_dev.csv', sep=\";\")\n",
    "\n",
    "print(district_data)"
   ]
  },
  {
   "cell_type": "code",
   "execution_count": null,
   "metadata": {},
   "outputs": [],
   "source": []
  }
 ],
 "metadata": {
  "kernelspec": {
   "display_name": "Python 3.9.12 ('base')",
   "language": "python",
   "name": "python3"
  },
  "language_info": {
   "codemirror_mode": {
    "name": "ipython",
    "version": 3
   },
   "file_extension": ".py",
   "mimetype": "text/x-python",
   "name": "python",
   "nbconvert_exporter": "python",
   "pygments_lexer": "ipython3",
   "version": "3.9.12"
  },
  "orig_nbformat": 4,
  "vscode": {
   "interpreter": {
    "hash": "94ddd922fad578825bbae2cbd61fcdf84b2b98f4a9e909f6bde81e2eb6b2adfc"
   }
  }
 },
 "nbformat": 4,
 "nbformat_minor": 2
}
