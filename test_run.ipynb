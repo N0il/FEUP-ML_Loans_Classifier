{
 "cells": [
  {
   "cell_type": "code",
   "execution_count": 1,
   "metadata": {},
   "outputs": [],
   "source": [
    "import pandas as pd\n",
    "import numpy as np\n",
    "import sklearn"
   ]
  },
  {
   "cell_type": "code",
   "execution_count": 11,
   "metadata": {},
   "outputs": [
    {
     "name": "stdout",
     "output_type": "stream",
     "text": [
      "['Prague', 'central Bohemia', 'south Bohemia', 'west Bohemia', 'north Bohemia', 'east Bohemia', 'south Moravia', 'north Moravia']\n"
     ]
    },
    {
     "name": "stderr",
     "output_type": "stream",
     "text": [
      "C:\\Users\\Francisco\\AppData\\Local\\Temp\\ipykernel_14092\\27668861.py:10: DtypeWarning: Columns (8) have mixed types. Specify dtype option on import or set low_memory=False.\n",
      "  trans_data = pd.read_csv('data/trans_dev.csv', sep=\";\")\n"
     ]
    }
   ],
   "source": [
    "from dis import dis\n",
    "\n",
    "\n",
    "account_data = pd.read_csv('data/account.csv', sep=\";\")\n",
    "card_data = pd.read_csv('data/card_dev.csv', sep=\";\")\n",
    "client_data = pd.read_csv('data/client.csv', sep=\";\")\n",
    "disp_data = pd.read_csv('data/disp.csv', sep=\";\")\n",
    "district_data = pd.read_csv('data/district.csv', sep=\";\")\n",
    "loan_data = pd.read_csv('data/loan_dev.csv', sep=\";\")\n",
    "trans_data = pd.read_csv('data/trans_dev.csv', sep=\";\")\n",
    "\n",
    "regions = []\n",
    "for i in district_data.region:\n",
    "    if i not in regions:\n",
    "        regions.append(i)\n",
    "print(regions)"
   ]
  },
  {
   "cell_type": "code",
   "execution_count": null,
   "metadata": {},
   "outputs": [],
   "source": []
  }
 ],
 "metadata": {
  "kernelspec": {
   "display_name": "Python 3.9.12 ('base')",
   "language": "python",
   "name": "python3"
  },
  "language_info": {
   "codemirror_mode": {
    "name": "ipython",
    "version": 3
   },
   "file_extension": ".py",
   "mimetype": "text/x-python",
   "name": "python",
   "nbconvert_exporter": "python",
   "pygments_lexer": "ipython3",
   "version": "3.9.12"
  },
  "orig_nbformat": 4,
  "vscode": {
   "interpreter": {
    "hash": "94ddd922fad578825bbae2cbd61fcdf84b2b98f4a9e909f6bde81e2eb6b2adfc"
   }
  }
 },
 "nbformat": 4,
 "nbformat_minor": 2
}
