{
 "cells": [
  {
   "cell_type": "code",
   "execution_count": 4,
   "metadata": {},
   "outputs": [],
   "source": [
    "import pandas as pd\n",
    "import numpy as np\n",
    "import matplotlib.pyplot as plt\n",
    "import sklearn"
   ]
  },
  {
   "cell_type": "code",
   "execution_count": 5,
   "metadata": {},
   "outputs": [
    {
     "name": "stderr",
     "output_type": "stream",
     "text": [
      "C:\\Users\\Francisco\\AppData\\Local\\Temp\\ipykernel_2580\\2210588100.py:7: DtypeWarning: Columns (8) have mixed types. Specify dtype option on import or set low_memory=False.\n",
      "  trans_data = pd.read_csv('../data/trans_dev.csv', sep=\";\")\n"
     ]
    }
   ],
   "source": [
    "\n",
    "account_data = pd.read_csv('../data/account.csv', sep=\";\")\n",
    "card_data = pd.read_csv('../data/card_dev.csv', sep=\";\")\n",
    "client_data = pd.read_csv('../data/client.csv', sep=\";\")\n",
    "disp_data = pd.read_csv('../data/disp.csv', sep=\";\")\n",
    "district_data = pd.read_csv('../data/district.csv', sep=\";\")\n",
    "loan_data = pd.read_csv('../data/loan_dev.csv', sep=\";\")\n",
    "trans_data = pd.read_csv('../data/trans_dev.csv', sep=\";\")\n",
    "\n"
   ]
  },
  {
   "cell_type": "code",
   "execution_count": 6,
   "metadata": {},
   "outputs": [
    {
     "data": {
      "text/html": [
       "<div>\n",
       "<style scoped>\n",
       "    .dataframe tbody tr th:only-of-type {\n",
       "        vertical-align: middle;\n",
       "    }\n",
       "\n",
       "    .dataframe tbody tr th {\n",
       "        vertical-align: top;\n",
       "    }\n",
       "\n",
       "    .dataframe thead th {\n",
       "        text-align: right;\n",
       "    }\n",
       "</style>\n",
       "<table border=\"1\" class=\"dataframe\">\n",
       "  <thead>\n",
       "    <tr style=\"text-align: right;\">\n",
       "      <th></th>\n",
       "      <th>trans_id</th>\n",
       "      <th>account_id</th>\n",
       "      <th>date</th>\n",
       "      <th>type</th>\n",
       "      <th>operation</th>\n",
       "      <th>amount</th>\n",
       "      <th>balance</th>\n",
       "      <th>k_symbol</th>\n",
       "      <th>bank</th>\n",
       "      <th>account</th>\n",
       "    </tr>\n",
       "  </thead>\n",
       "  <tbody>\n",
       "    <tr>\n",
       "      <th>0</th>\n",
       "      <td>1548749</td>\n",
       "      <td>5270</td>\n",
       "      <td>930113</td>\n",
       "      <td>credit</td>\n",
       "      <td>credit in cash</td>\n",
       "      <td>800.0</td>\n",
       "      <td>800.0</td>\n",
       "      <td>NaN</td>\n",
       "      <td>NaN</td>\n",
       "      <td>NaN</td>\n",
       "    </tr>\n",
       "    <tr>\n",
       "      <th>1</th>\n",
       "      <td>1548750</td>\n",
       "      <td>5270</td>\n",
       "      <td>930114</td>\n",
       "      <td>credit</td>\n",
       "      <td>collection from another bank</td>\n",
       "      <td>44749.0</td>\n",
       "      <td>45549.0</td>\n",
       "      <td>NaN</td>\n",
       "      <td>IJ</td>\n",
       "      <td>80269753.0</td>\n",
       "    </tr>\n",
       "    <tr>\n",
       "      <th>2</th>\n",
       "      <td>3393738</td>\n",
       "      <td>11265</td>\n",
       "      <td>930114</td>\n",
       "      <td>credit</td>\n",
       "      <td>credit in cash</td>\n",
       "      <td>1000.0</td>\n",
       "      <td>1000.0</td>\n",
       "      <td>NaN</td>\n",
       "      <td>NaN</td>\n",
       "      <td>NaN</td>\n",
       "    </tr>\n",
       "    <tr>\n",
       "      <th>3</th>\n",
       "      <td>3122924</td>\n",
       "      <td>10364</td>\n",
       "      <td>930117</td>\n",
       "      <td>credit</td>\n",
       "      <td>credit in cash</td>\n",
       "      <td>1100.0</td>\n",
       "      <td>1100.0</td>\n",
       "      <td>NaN</td>\n",
       "      <td>NaN</td>\n",
       "      <td>NaN</td>\n",
       "    </tr>\n",
       "    <tr>\n",
       "      <th>4</th>\n",
       "      <td>1121963</td>\n",
       "      <td>3834</td>\n",
       "      <td>930119</td>\n",
       "      <td>credit</td>\n",
       "      <td>credit in cash</td>\n",
       "      <td>700.0</td>\n",
       "      <td>700.0</td>\n",
       "      <td>NaN</td>\n",
       "      <td>NaN</td>\n",
       "      <td>NaN</td>\n",
       "    </tr>\n",
       "    <tr>\n",
       "      <th>...</th>\n",
       "      <td>...</td>\n",
       "      <td>...</td>\n",
       "      <td>...</td>\n",
       "      <td>...</td>\n",
       "      <td>...</td>\n",
       "      <td>...</td>\n",
       "      <td>...</td>\n",
       "      <td>...</td>\n",
       "      <td>...</td>\n",
       "      <td>...</td>\n",
       "    </tr>\n",
       "    <tr>\n",
       "      <th>396680</th>\n",
       "      <td>515914</td>\n",
       "      <td>1763</td>\n",
       "      <td>961231</td>\n",
       "      <td>withdrawal</td>\n",
       "      <td>withdrawal in cash</td>\n",
       "      <td>14.6</td>\n",
       "      <td>67769.5</td>\n",
       "      <td>payment for statement</td>\n",
       "      <td>NaN</td>\n",
       "      <td>NaN</td>\n",
       "    </tr>\n",
       "    <tr>\n",
       "      <th>396681</th>\n",
       "      <td>516262</td>\n",
       "      <td>1765</td>\n",
       "      <td>961231</td>\n",
       "      <td>withdrawal</td>\n",
       "      <td>withdrawal in cash</td>\n",
       "      <td>14.6</td>\n",
       "      <td>19708.1</td>\n",
       "      <td>payment for statement</td>\n",
       "      <td>NaN</td>\n",
       "      <td>NaN</td>\n",
       "    </tr>\n",
       "    <tr>\n",
       "      <th>396682</th>\n",
       "      <td>520019</td>\n",
       "      <td>1775</td>\n",
       "      <td>961231</td>\n",
       "      <td>withdrawal</td>\n",
       "      <td>withdrawal in cash</td>\n",
       "      <td>14.6</td>\n",
       "      <td>15944.5</td>\n",
       "      <td>payment for statement</td>\n",
       "      <td>NaN</td>\n",
       "      <td>NaN</td>\n",
       "    </tr>\n",
       "    <tr>\n",
       "      <th>396683</th>\n",
       "      <td>517894</td>\n",
       "      <td>1769</td>\n",
       "      <td>961231</td>\n",
       "      <td>withdrawal</td>\n",
       "      <td>withdrawal in cash</td>\n",
       "      <td>14.6</td>\n",
       "      <td>34679.4</td>\n",
       "      <td>payment for statement</td>\n",
       "      <td>NaN</td>\n",
       "      <td>NaN</td>\n",
       "    </tr>\n",
       "    <tr>\n",
       "      <th>396684</th>\n",
       "      <td>518239</td>\n",
       "      <td>1770</td>\n",
       "      <td>961231</td>\n",
       "      <td>withdrawal</td>\n",
       "      <td>withdrawal in cash</td>\n",
       "      <td>14.6</td>\n",
       "      <td>68162.9</td>\n",
       "      <td>payment for statement</td>\n",
       "      <td>NaN</td>\n",
       "      <td>NaN</td>\n",
       "    </tr>\n",
       "  </tbody>\n",
       "</table>\n",
       "<p>396685 rows × 10 columns</p>\n",
       "</div>"
      ],
      "text/plain": [
       "        trans_id  account_id    date        type  \\\n",
       "0        1548749        5270  930113      credit   \n",
       "1        1548750        5270  930114      credit   \n",
       "2        3393738       11265  930114      credit   \n",
       "3        3122924       10364  930117      credit   \n",
       "4        1121963        3834  930119      credit   \n",
       "...          ...         ...     ...         ...   \n",
       "396680    515914        1763  961231  withdrawal   \n",
       "396681    516262        1765  961231  withdrawal   \n",
       "396682    520019        1775  961231  withdrawal   \n",
       "396683    517894        1769  961231  withdrawal   \n",
       "396684    518239        1770  961231  withdrawal   \n",
       "\n",
       "                           operation   amount  balance               k_symbol  \\\n",
       "0                     credit in cash    800.0    800.0                    NaN   \n",
       "1       collection from another bank  44749.0  45549.0                    NaN   \n",
       "2                     credit in cash   1000.0   1000.0                    NaN   \n",
       "3                     credit in cash   1100.0   1100.0                    NaN   \n",
       "4                     credit in cash    700.0    700.0                    NaN   \n",
       "...                              ...      ...      ...                    ...   \n",
       "396680            withdrawal in cash     14.6  67769.5  payment for statement   \n",
       "396681            withdrawal in cash     14.6  19708.1  payment for statement   \n",
       "396682            withdrawal in cash     14.6  15944.5  payment for statement   \n",
       "396683            withdrawal in cash     14.6  34679.4  payment for statement   \n",
       "396684            withdrawal in cash     14.6  68162.9  payment for statement   \n",
       "\n",
       "       bank     account  \n",
       "0       NaN         NaN  \n",
       "1        IJ  80269753.0  \n",
       "2       NaN         NaN  \n",
       "3       NaN         NaN  \n",
       "4       NaN         NaN  \n",
       "...     ...         ...  \n",
       "396680  NaN         NaN  \n",
       "396681  NaN         NaN  \n",
       "396682  NaN         NaN  \n",
       "396683  NaN         NaN  \n",
       "396684  NaN         NaN  \n",
       "\n",
       "[396685 rows x 10 columns]"
      ]
     },
     "execution_count": 6,
     "metadata": {},
     "output_type": "execute_result"
    }
   ],
   "source": [
    "trans_data"
   ]
  },
  {
   "cell_type": "code",
   "execution_count": 12,
   "metadata": {},
   "outputs": [
    {
     "data": {
      "text/plain": [
       "withdrawal            232093\n",
       "credit                159468\n",
       "withdrawal in cash      5124\n",
       "Name: type, dtype: int64"
      ]
     },
     "execution_count": 12,
     "metadata": {},
     "output_type": "execute_result"
    }
   ],
   "source": [
    "trans_data['type'].value_counts()"
   ]
  },
  {
   "cell_type": "markdown",
   "metadata": {},
   "source": []
  },
  {
   "cell_type": "markdown",
   "metadata": {},
   "source": []
  },
  {
   "cell_type": "code",
   "execution_count": 39,
   "metadata": {},
   "outputs": [],
   "source": [
    "effort_table = pd.DataFrame(columns=['account_id','revenue', 'expenses', 'efort_rate'])\n",
    "account_id_list = []\n",
    "for i, row in trans_data.iterrows():\n",
    "    if (row['account_id'] not in account_id_list):\n",
    "        account_id_list.append(row['account_id'])\n"
   ]
  },
  {
   "cell_type": "code",
   "execution_count": 63,
   "metadata": {},
   "outputs": [],
   "source": [
    "dic = {}\n",
    "for i in account_id_list:\n",
    "    dic[str(i) +'_revenue'] = 0\n",
    "    dic[str(i) +'_expenses'] = 0"
   ]
  },
  {
   "cell_type": "code",
   "execution_count": 65,
   "metadata": {},
   "outputs": [],
   "source": [
    "dic = {}\n",
    "\n",
    "for i, row in trans_data.iterrows():\n",
    "    revenue = str(row['account_id'])+\"_revenue_\"+str(row['date']//100)\n",
    "    expenses = str(row['account_id'])+\"_expenses_\"+str(row['date']//100)\n",
    "    if ( revenue not in dic):\n",
    "        dic[revenue] = 0\n",
    "    if ( expenses not in dic):\n",
    "        dic[expenses] = 0\n",
    "\n",
    "    if (row['type'] == \"credit\"):\n",
    "        dic[revenue] += row['amount']\n",
    "    else:\n",
    "        dic[expenses] += row['amount']\n",
    "\n"
   ]
  },
  {
   "cell_type": "code",
   "execution_count": 68,
   "metadata": {},
   "outputs": [
    {
     "data": {
      "text/plain": [
       "type                operation                   \n",
       "withdrawal          withdrawal in cash              160146\n",
       "                    remittance to another bank       70737\n",
       "credit              credit in cash                   62202\n",
       "                    collection from another bank     26505\n",
       "withdrawal in cash  withdrawal in cash                5124\n",
       "withdrawal          credit card withdrawal            1210\n",
       "dtype: int64"
      ]
     },
     "execution_count": 68,
     "metadata": {},
     "output_type": "execute_result"
    }
   ],
   "source": [
    "trans_data[['type','operation']].value_counts()"
   ]
  },
  {
   "cell_type": "code",
   "execution_count": null,
   "metadata": {},
   "outputs": [],
   "source": []
  }
 ],
 "metadata": {
  "kernelspec": {
   "display_name": "Python 3.9.12 ('base')",
   "language": "python",
   "name": "python3"
  },
  "language_info": {
   "codemirror_mode": {
    "name": "ipython",
    "version": 3
   },
   "file_extension": ".py",
   "mimetype": "text/x-python",
   "name": "python",
   "nbconvert_exporter": "python",
   "pygments_lexer": "ipython3",
   "version": "3.9.12"
  },
  "orig_nbformat": 4,
  "vscode": {
   "interpreter": {
    "hash": "94ddd922fad578825bbae2cbd61fcdf84b2b98f4a9e909f6bde81e2eb6b2adfc"
   }
  }
 },
 "nbformat": 4,
 "nbformat_minor": 2
}
