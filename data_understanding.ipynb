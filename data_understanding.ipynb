{
 "cells": [
  {
   "cell_type": "code",
   "execution_count": 1,
   "metadata": {},
   "outputs": [
    {
     "ename": "ModuleNotFoundError",
     "evalue": "No module named 'pandas'",
     "output_type": "error",
     "traceback": [
      "\u001b[1;31m---------------------------------------------------------------------------\u001b[0m",
      "\u001b[1;31mModuleNotFoundError\u001b[0m                       Traceback (most recent call last)",
      "Cell \u001b[1;32mIn [1], line 1\u001b[0m\n\u001b[1;32m----> 1\u001b[0m \u001b[39mimport\u001b[39;00m \u001b[39mpandas\u001b[39;00m \u001b[39mas\u001b[39;00m \u001b[39mpd\u001b[39;00m\n\u001b[0;32m      2\u001b[0m \u001b[39mimport\u001b[39;00m \u001b[39mnumpy\u001b[39;00m \u001b[39mas\u001b[39;00m \u001b[39mnp\u001b[39;00m\n\u001b[0;32m      3\u001b[0m \u001b[39mimport\u001b[39;00m \u001b[39mmatplotlib\u001b[39;00m \u001b[39mas\u001b[39;00m \u001b[39mmpl\u001b[39;00m\n",
      "\u001b[1;31mModuleNotFoundError\u001b[0m: No module named 'pandas'"
     ]
    }
   ],
   "source": [
    "import pandas as pd\n",
    "import numpy as np\n",
    "import matplotlib as mpl\n",
    "import matplotlib.pyplot as plt\n",
    "import sklearn"
   ]
  },
  {
   "cell_type": "code",
   "execution_count": null,
   "metadata": {},
   "outputs": [
    {
     "name": "stderr",
     "output_type": "stream",
     "text": [
      "C:\\Users\\Francisco\\AppData\\Local\\Temp\\ipykernel_19756\\2549921809.py:7: DtypeWarning: Columns (8) have mixed types. Specify dtype option on import or set low_memory=False.\n",
      "  trans_data = pd.read_csv('data/trans_dev.csv', sep=\";\")\n"
     ]
    }
   ],
   "source": [
    "\n",
    "account_data = pd.read_csv('data/account.csv', sep=\";\")\n",
    "card_data = pd.read_csv('data/card_dev.csv', sep=\";\")\n",
    "client_data = pd.read_csv('data/client.csv', sep=\";\")\n",
    "disp_data = pd.read_csv('data/disp.csv', sep=\";\")\n",
    "district_data = pd.read_csv('data/district.csv', sep=\";\")\n",
    "loan_data = pd.read_csv('data/loan_dev.csv', sep=\";\")\n",
    "trans_data = pd.read_csv('data/trans_dev.csv', sep=\";\")\n",
    "\n"
   ]
  },
  {
   "cell_type": "code",
   "execution_count": null,
   "metadata": {},
   "outputs": [
    {
     "data": {
      "text/html": [
       "<div>\n",
       "<style scoped>\n",
       "    .dataframe tbody tr th:only-of-type {\n",
       "        vertical-align: middle;\n",
       "    }\n",
       "\n",
       "    .dataframe tbody tr th {\n",
       "        vertical-align: top;\n",
       "    }\n",
       "\n",
       "    .dataframe thead th {\n",
       "        text-align: right;\n",
       "    }\n",
       "</style>\n",
       "<table border=\"1\" class=\"dataframe\">\n",
       "  <thead>\n",
       "    <tr style=\"text-align: right;\">\n",
       "      <th></th>\n",
       "      <th>account_id</th>\n",
       "      <th>district_id</th>\n",
       "      <th>date</th>\n",
       "    </tr>\n",
       "  </thead>\n",
       "  <tbody>\n",
       "    <tr>\n",
       "      <th>count</th>\n",
       "      <td>4500.000000</td>\n",
       "      <td>4500.000000</td>\n",
       "      <td>4500.000000</td>\n",
       "    </tr>\n",
       "    <tr>\n",
       "      <th>mean</th>\n",
       "      <td>2786.067556</td>\n",
       "      <td>37.310444</td>\n",
       "      <td>951654.608667</td>\n",
       "    </tr>\n",
       "    <tr>\n",
       "      <th>std</th>\n",
       "      <td>2313.811984</td>\n",
       "      <td>25.177217</td>\n",
       "      <td>14842.188377</td>\n",
       "    </tr>\n",
       "    <tr>\n",
       "      <th>min</th>\n",
       "      <td>1.000000</td>\n",
       "      <td>1.000000</td>\n",
       "      <td>930101.000000</td>\n",
       "    </tr>\n",
       "    <tr>\n",
       "      <th>25%</th>\n",
       "      <td>1182.750000</td>\n",
       "      <td>13.000000</td>\n",
       "      <td>931227.000000</td>\n",
       "    </tr>\n",
       "    <tr>\n",
       "      <th>50%</th>\n",
       "      <td>2368.000000</td>\n",
       "      <td>38.000000</td>\n",
       "      <td>960102.000000</td>\n",
       "    </tr>\n",
       "    <tr>\n",
       "      <th>75%</th>\n",
       "      <td>3552.250000</td>\n",
       "      <td>60.000000</td>\n",
       "      <td>961101.000000</td>\n",
       "    </tr>\n",
       "    <tr>\n",
       "      <th>max</th>\n",
       "      <td>11382.000000</td>\n",
       "      <td>77.000000</td>\n",
       "      <td>971229.000000</td>\n",
       "    </tr>\n",
       "  </tbody>\n",
       "</table>\n",
       "</div>"
      ],
      "text/plain": [
       "         account_id  district_id           date\n",
       "count   4500.000000  4500.000000    4500.000000\n",
       "mean    2786.067556    37.310444  951654.608667\n",
       "std     2313.811984    25.177217   14842.188377\n",
       "min        1.000000     1.000000  930101.000000\n",
       "25%     1182.750000    13.000000  931227.000000\n",
       "50%     2368.000000    38.000000  960102.000000\n",
       "75%     3552.250000    60.000000  961101.000000\n",
       "max    11382.000000    77.000000  971229.000000"
      ]
     },
     "execution_count": 20,
     "metadata": {},
     "output_type": "execute_result"
    }
   ],
   "source": [
    "# account_data.median()\n",
    "account_data.describe()\n"
   ]
  },
  {
   "cell_type": "code",
   "execution_count": null,
   "metadata": {},
   "outputs": [
    {
     "data": {
      "text/html": [
       "<div>\n",
       "<style scoped>\n",
       "    .dataframe tbody tr th:only-of-type {\n",
       "        vertical-align: middle;\n",
       "    }\n",
       "\n",
       "    .dataframe tbody tr th {\n",
       "        vertical-align: top;\n",
       "    }\n",
       "\n",
       "    .dataframe thead th {\n",
       "        text-align: right;\n",
       "    }\n",
       "</style>\n",
       "<table border=\"1\" class=\"dataframe\">\n",
       "  <thead>\n",
       "    <tr style=\"text-align: right;\">\n",
       "      <th></th>\n",
       "      <th>card_id</th>\n",
       "      <th>disp_id</th>\n",
       "      <th>issued</th>\n",
       "    </tr>\n",
       "  </thead>\n",
       "  <tbody>\n",
       "    <tr>\n",
       "      <th>count</th>\n",
       "      <td>177.000000</td>\n",
       "      <td>177.000000</td>\n",
       "      <td>177.000000</td>\n",
       "    </tr>\n",
       "    <tr>\n",
       "      <th>mean</th>\n",
       "      <td>433.576271</td>\n",
       "      <td>3031.723164</td>\n",
       "      <td>954971.259887</td>\n",
       "    </tr>\n",
       "    <tr>\n",
       "      <th>std</th>\n",
       "      <td>290.507562</td>\n",
       "      <td>2632.338944</td>\n",
       "      <td>7217.974691</td>\n",
       "    </tr>\n",
       "    <tr>\n",
       "      <th>min</th>\n",
       "      <td>3.000000</td>\n",
       "      <td>41.000000</td>\n",
       "      <td>931107.000000</td>\n",
       "    </tr>\n",
       "    <tr>\n",
       "      <th>25%</th>\n",
       "      <td>183.000000</td>\n",
       "      <td>1080.000000</td>\n",
       "      <td>950616.000000</td>\n",
       "    </tr>\n",
       "    <tr>\n",
       "      <th>50%</th>\n",
       "      <td>397.000000</td>\n",
       "      <td>2513.000000</td>\n",
       "      <td>960221.000000</td>\n",
       "    </tr>\n",
       "    <tr>\n",
       "      <th>75%</th>\n",
       "      <td>661.000000</td>\n",
       "      <td>4270.000000</td>\n",
       "      <td>960831.000000</td>\n",
       "    </tr>\n",
       "    <tr>\n",
       "      <th>max</th>\n",
       "      <td>1247.000000</td>\n",
       "      <td>13660.000000</td>\n",
       "      <td>961231.000000</td>\n",
       "    </tr>\n",
       "  </tbody>\n",
       "</table>\n",
       "</div>"
      ],
      "text/plain": [
       "           card_id       disp_id         issued\n",
       "count   177.000000    177.000000     177.000000\n",
       "mean    433.576271   3031.723164  954971.259887\n",
       "std     290.507562   2632.338944    7217.974691\n",
       "min       3.000000     41.000000  931107.000000\n",
       "25%     183.000000   1080.000000  950616.000000\n",
       "50%     397.000000   2513.000000  960221.000000\n",
       "75%     661.000000   4270.000000  960831.000000\n",
       "max    1247.000000  13660.000000  961231.000000"
      ]
     },
     "execution_count": 21,
     "metadata": {},
     "output_type": "execute_result"
    }
   ],
   "source": [
    "card_data.describe()"
   ]
  },
  {
   "cell_type": "markdown",
   "metadata": {},
   "source": [
    "(mean, mode and median) and dispersion: range , variance, maximum, minimum, quartiles (including the interquartile range), and standard deviation."
   ]
  },
  {
   "cell_type": "code",
   "execution_count": null,
   "metadata": {},
   "outputs": [
    {
     "ename": "NameError",
     "evalue": "name 'pd' is not defined",
     "output_type": "error",
     "traceback": [
      "\u001b[1;31m---------------------------------------------------------------------------\u001b[0m",
      "\u001b[1;31mNameError\u001b[0m                                 Traceback (most recent call last)",
      "Cell \u001b[1;32mIn [4], line 2\u001b[0m\n\u001b[0;32m      1\u001b[0m \u001b[39mfrom\u001b[39;00m \u001b[39mfunctools\u001b[39;00m \u001b[39mimport\u001b[39;00m partial\n\u001b[1;32m----> 2\u001b[0m q_25 \u001b[39m=\u001b[39m partial(pd\u001b[39m.\u001b[39mSeries\u001b[39m.\u001b[39mquantile, q\u001b[39m=\u001b[39m\u001b[39m0.25\u001b[39m)\n\u001b[0;32m      3\u001b[0m q_25\u001b[39m.\u001b[39m\u001b[39m__name__\u001b[39m \u001b[39m=\u001b[39m \u001b[39m\"\u001b[39m\u001b[39m25\u001b[39m\u001b[39m%\u001b[39m\u001b[39m\"\u001b[39m\n\u001b[0;32m      4\u001b[0m q_75 \u001b[39m=\u001b[39m partial(pd\u001b[39m.\u001b[39mSeries\u001b[39m.\u001b[39mquantile, q\u001b[39m=\u001b[39m\u001b[39m0.75\u001b[39m)\n",
      "\u001b[1;31mNameError\u001b[0m: name 'pd' is not defined"
     ]
    }
   ],
   "source": [
    "from functools import partial\n",
    "q_25 = partial(pd.Series.quantile, q=0.25)\n",
    "q_25.__name__ = \"25%\"\n",
    "q_75 = partial(pd.Series.quantile, q=0.75)\n",
    "q_75.__name__ = \"75%\""
   ]
  },
  {
   "cell_type": "code",
   "execution_count": null,
   "metadata": {},
   "outputs": [],
   "source": [
    "def statFunc(x):\n",
    "    stats = x.agg([\"mean\", \"var\", \"std\", \"min\", q_25, \"median\", q_75, \"max\"])\n",
    "    IQ = (stats.loc[\"75%\"] - stats.loc[\"25%\"])\n",
    "    stats.loc[\"lower_limit\"] = stats.loc[\"25%\"] - 1.5*IQ\n",
    "    stats.loc[\"upper_limit\"] = stats.loc[\"75%\"] + 1.5*IQ\n",
    "    stats.loc[\"outliers-\"] = x[x<stats.loc[\"lower_limit\"]].count()\n",
    "    stats.loc[\"outliers+\"] = x[x>stats.loc[\"upper_limit\"]].count()\n",
    "    return stats\n"
   ]
  },
  {
   "cell_type": "code",
   "execution_count": null,
   "metadata": {},
   "outputs": [
    {
     "ename": "NameError",
     "evalue": "name 'loan_data' is not defined",
     "output_type": "error",
     "traceback": [
      "\u001b[1;31m---------------------------------------------------------------------------\u001b[0m",
      "\u001b[1;31mNameError\u001b[0m                                 Traceback (most recent call last)",
      "Cell \u001b[1;32mIn [3], line 1\u001b[0m\n\u001b[1;32m----> 1\u001b[0m stats \u001b[39m=\u001b[39m statFunc(loan_data[\u001b[39m'\u001b[39m\u001b[39mamount\u001b[39m\u001b[39m'\u001b[39m, \u001b[39m'\u001b[39m\u001b[39mduration\u001b[39m\u001b[39m'\u001b[39m])\n",
      "\u001b[1;31mNameError\u001b[0m: name 'loan_data' is not defined"
     ]
    }
   ],
   "source": [
    "stats = statFunc(loan_data['amount', 'duration'])"
   ]
  },
  {
   "cell_type": "code",
   "execution_count": null,
   "metadata": {},
   "outputs": [
    {
     "data": {
      "text/html": [
       "<div>\n",
       "<style scoped>\n",
       "    .dataframe tbody tr th:only-of-type {\n",
       "        vertical-align: middle;\n",
       "    }\n",
       "\n",
       "    .dataframe tbody tr th {\n",
       "        vertical-align: top;\n",
       "    }\n",
       "\n",
       "    .dataframe thead th {\n",
       "        text-align: right;\n",
       "    }\n",
       "</style>\n",
       "<table border=\"1\" class=\"dataframe\">\n",
       "  <thead>\n",
       "    <tr style=\"text-align: right;\">\n",
       "      <th></th>\n",
       "      <th>loan_id</th>\n",
       "      <th>account_id</th>\n",
       "      <th>date</th>\n",
       "      <th>amount</th>\n",
       "      <th>duration</th>\n",
       "      <th>payments</th>\n",
       "      <th>status</th>\n",
       "    </tr>\n",
       "  </thead>\n",
       "  <tbody>\n",
       "    <tr>\n",
       "      <th>mean</th>\n",
       "      <td>6205.658537</td>\n",
       "      <td>5.982085e+03</td>\n",
       "      <td>9.499891e+05</td>\n",
       "      <td>1.453086e+05</td>\n",
       "      <td>35.853659</td>\n",
       "      <td>4.150933e+03</td>\n",
       "      <td>0.719512</td>\n",
       "    </tr>\n",
       "    <tr>\n",
       "      <th>var</th>\n",
       "      <td>446204.861639</td>\n",
       "      <td>1.032506e+07</td>\n",
       "      <td>9.016461e+07</td>\n",
       "      <td>1.107700e+10</td>\n",
       "      <td>280.051913</td>\n",
       "      <td>4.811973e+06</td>\n",
       "      <td>0.483777</td>\n",
       "    </tr>\n",
       "    <tr>\n",
       "      <th>std</th>\n",
       "      <td>667.985675</td>\n",
       "      <td>3.213262e+03</td>\n",
       "      <td>9.495505e+03</td>\n",
       "      <td>1.052473e+05</td>\n",
       "      <td>16.734752</td>\n",
       "      <td>2.193621e+03</td>\n",
       "      <td>0.695541</td>\n",
       "    </tr>\n",
       "    <tr>\n",
       "      <th>min</th>\n",
       "      <td>4959.000000</td>\n",
       "      <td>2.000000e+00</td>\n",
       "      <td>9.307050e+05</td>\n",
       "      <td>4.980000e+03</td>\n",
       "      <td>12.000000</td>\n",
       "      <td>3.190000e+02</td>\n",
       "      <td>-1.000000</td>\n",
       "    </tr>\n",
       "    <tr>\n",
       "      <th>25%</th>\n",
       "      <td>5604.250000</td>\n",
       "      <td>3.079000e+03</td>\n",
       "      <td>9.408092e+05</td>\n",
       "      <td>6.832800e+04</td>\n",
       "      <td>24.000000</td>\n",
       "      <td>2.368750e+03</td>\n",
       "      <td>1.000000</td>\n",
       "    </tr>\n",
       "    <tr>\n",
       "      <th>median</th>\n",
       "      <td>6227.500000</td>\n",
       "      <td>6.032000e+03</td>\n",
       "      <td>9.505655e+05</td>\n",
       "      <td>1.148040e+05</td>\n",
       "      <td>36.000000</td>\n",
       "      <td>3.878500e+03</td>\n",
       "      <td>1.000000</td>\n",
       "    </tr>\n",
       "    <tr>\n",
       "      <th>75%</th>\n",
       "      <td>6737.250000</td>\n",
       "      <td>8.564500e+03</td>\n",
       "      <td>9.605252e+05</td>\n",
       "      <td>1.986000e+05</td>\n",
       "      <td>48.000000</td>\n",
       "      <td>5.907750e+03</td>\n",
       "      <td>1.000000</td>\n",
       "    </tr>\n",
       "    <tr>\n",
       "      <th>max</th>\n",
       "      <td>7308.000000</td>\n",
       "      <td>1.136200e+04</td>\n",
       "      <td>9.612270e+05</td>\n",
       "      <td>5.385000e+05</td>\n",
       "      <td>60.000000</td>\n",
       "      <td>9.689000e+03</td>\n",
       "      <td>1.000000</td>\n",
       "    </tr>\n",
       "    <tr>\n",
       "      <th>lower_limit</th>\n",
       "      <td>3904.750000</td>\n",
       "      <td>-5.149250e+03</td>\n",
       "      <td>9.112352e+05</td>\n",
       "      <td>-1.270800e+05</td>\n",
       "      <td>-12.000000</td>\n",
       "      <td>-2.939750e+03</td>\n",
       "      <td>1.000000</td>\n",
       "    </tr>\n",
       "    <tr>\n",
       "      <th>upper_limit</th>\n",
       "      <td>8436.750000</td>\n",
       "      <td>1.679275e+04</td>\n",
       "      <td>9.900992e+05</td>\n",
       "      <td>3.940080e+05</td>\n",
       "      <td>84.000000</td>\n",
       "      <td>1.121625e+04</td>\n",
       "      <td>1.000000</td>\n",
       "    </tr>\n",
       "    <tr>\n",
       "      <th>outliers-</th>\n",
       "      <td>0.000000</td>\n",
       "      <td>0.000000e+00</td>\n",
       "      <td>0.000000e+00</td>\n",
       "      <td>0.000000e+00</td>\n",
       "      <td>0.000000</td>\n",
       "      <td>0.000000e+00</td>\n",
       "      <td>46.000000</td>\n",
       "    </tr>\n",
       "    <tr>\n",
       "      <th>outliers+</th>\n",
       "      <td>0.000000</td>\n",
       "      <td>0.000000e+00</td>\n",
       "      <td>0.000000e+00</td>\n",
       "      <td>1.200000e+01</td>\n",
       "      <td>0.000000</td>\n",
       "      <td>0.000000e+00</td>\n",
       "      <td>0.000000</td>\n",
       "    </tr>\n",
       "  </tbody>\n",
       "</table>\n",
       "</div>"
      ],
      "text/plain": [
       "                   loan_id    account_id          date        amount  \\\n",
       "mean           6205.658537  5.982085e+03  9.499891e+05  1.453086e+05   \n",
       "var          446204.861639  1.032506e+07  9.016461e+07  1.107700e+10   \n",
       "std             667.985675  3.213262e+03  9.495505e+03  1.052473e+05   \n",
       "min            4959.000000  2.000000e+00  9.307050e+05  4.980000e+03   \n",
       "25%            5604.250000  3.079000e+03  9.408092e+05  6.832800e+04   \n",
       "median         6227.500000  6.032000e+03  9.505655e+05  1.148040e+05   \n",
       "75%            6737.250000  8.564500e+03  9.605252e+05  1.986000e+05   \n",
       "max            7308.000000  1.136200e+04  9.612270e+05  5.385000e+05   \n",
       "lower_limit    3904.750000 -5.149250e+03  9.112352e+05 -1.270800e+05   \n",
       "upper_limit    8436.750000  1.679275e+04  9.900992e+05  3.940080e+05   \n",
       "outliers-         0.000000  0.000000e+00  0.000000e+00  0.000000e+00   \n",
       "outliers+         0.000000  0.000000e+00  0.000000e+00  1.200000e+01   \n",
       "\n",
       "               duration      payments     status  \n",
       "mean          35.853659  4.150933e+03   0.719512  \n",
       "var          280.051913  4.811973e+06   0.483777  \n",
       "std           16.734752  2.193621e+03   0.695541  \n",
       "min           12.000000  3.190000e+02  -1.000000  \n",
       "25%           24.000000  2.368750e+03   1.000000  \n",
       "median        36.000000  3.878500e+03   1.000000  \n",
       "75%           48.000000  5.907750e+03   1.000000  \n",
       "max           60.000000  9.689000e+03   1.000000  \n",
       "lower_limit  -12.000000 -2.939750e+03   1.000000  \n",
       "upper_limit   84.000000  1.121625e+04   1.000000  \n",
       "outliers-      0.000000  0.000000e+00  46.000000  \n",
       "outliers+      0.000000  0.000000e+00   0.000000  "
      ]
     },
     "execution_count": 79,
     "metadata": {},
     "output_type": "execute_result"
    }
   ],
   "source": [
    "stats"
   ]
  },
  {
   "cell_type": "code",
   "execution_count": null,
   "metadata": {},
   "outputs": [
    {
     "data": {
      "text/plain": [
       "loan_id       0\n",
       "account_id    0\n",
       "date          0\n",
       "amount        0\n",
       "duration      0\n",
       "payments      0\n",
       "status        0\n",
       "dtype: int64"
      ]
     },
     "execution_count": 74,
     "metadata": {},
     "output_type": "execute_result"
    }
   ],
   "source": [
    "loan_data.isna().sum()"
   ]
  },
  {
   "cell_type": "code",
   "execution_count": null,
   "metadata": {},
   "outputs": [],
   "source": []
  }
 ],
 "metadata": {
  "kernelspec": {
   "display_name": "Python 3.9.0 64-bit",
   "language": "python",
   "name": "python3"
  },
  "language_info": {
   "codemirror_mode": {
    "name": "ipython",
    "version": 3
   },
   "file_extension": ".py",
   "mimetype": "text/x-python",
   "name": "python",
   "nbconvert_exporter": "python",
   "pygments_lexer": "ipython3",
   "version": "3.9.0"
  },
  "orig_nbformat": 4,
  "vscode": {
   "interpreter": {
    "hash": "27b2090550f3cccc1560abb4e45fee0d0fcc48c8b373720b97ea404413d1d838"
   }
  }
 },
 "nbformat": 4,
 "nbformat_minor": 2
}
